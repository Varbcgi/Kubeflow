{
 "cells": [
  {
   "cell_type": "markdown",
   "id": "c4973121",
   "metadata": {},
   "source": [
    "# Kubeflow pipeline implementation"
   ]
  },
  {
   "cell_type": "markdown",
   "id": "91502f41",
   "metadata": {},
   "source": [
    "## You can find here the implementation of simple Kubeflow pipeline on a classification dataset "
   ]
  },
  {
   "cell_type": "markdown",
   "id": "b68c8015",
   "metadata": {},
   "source": [
    "### Make sure you have installed kubeflow and kfp package with all required dependecies"
   ]
  },
  {
   "cell_type": "code",
   "execution_count": 239,
   "id": "ca798690",
   "metadata": {},
   "outputs": [],
   "source": [
    "#Importing required libraries for the kubeflow pipeline\n",
    "import kfp\n",
    "import kfp.components as comp\n",
    "import requests\n",
    "import kfp.dsl as dsl"
   ]
  },
  {
   "cell_type": "markdown",
   "id": "1e88cf30",
   "metadata": {},
   "source": [
    "### Checking the version of the installation of kfp"
   ]
  },
  {
   "cell_type": "code",
   "execution_count": 240,
   "id": "d70c33f7",
   "metadata": {},
   "outputs": [
    {
     "name": "stdout",
     "output_type": "stream",
     "text": [
      "Name: kfp\n",
      "Version: 1.8.21\n",
      "Summary: KubeFlow Pipelines SDK\n",
      "Home-page: https://github.com/kubeflow/pipelines\n",
      "Author: The Kubeflow Authors\n",
      "Author-email: \n",
      "License: "
     ]
    }
   ],
   "source": [
    "#Details of kfp library\n",
    "!pip show kfp"
   ]
  },
  {
   "cell_type": "markdown",
   "id": "be9967a3",
   "metadata": {},
   "source": [
    "## Defining the required components for the pipeline"
   ]
  },
  {
   "cell_type": "markdown",
   "id": "26f03a3e",
   "metadata": {},
   "source": [
    "### Begin with the components that are necessary for the pipeline as per the requirements\n",
    "#### First step is of loading the dataset, in this example we read from a given link and save it locally, here a few preprocessing steps can be added, we can also define a seperate preprocessing component as needed."
   ]
  },
  {
   "cell_type": "code",
   "execution_count": 241,
   "id": "e0814712",
   "metadata": {},
   "outputs": [
    {
     "name": "stdout",
     "output_type": "stream",
     "text": [
      "\n",
      "Location: c:\\users\\varun.bhoj\\anaconda3\\lib\\site-packages\n",
      "Requires: absl-py, click, cloudpickle, Deprecated, docstring-parser, fire, google-api-core, google-api-python-client, google-auth, google-cloud-storage, jsonschema, kfp-pipeline-spec, kfp-server-api, kubernetes, protobuf, pydantic, PyYAML, requests-toolbelt, strip-hints, tabulate, typer, uritemplate, urllib3\n",
      "Required-by: \n"
     ]
    }
   ],
   "source": [
    "#Importing the required dataset\n",
    "\n",
    "def prepare_data():\n",
    "    import pandas as pd\n",
    "    \n",
    "    import os\n",
    "\n",
    "    cwd = os.getcwd()\n",
    "    print(\"Current working directory:\", cwd)\n",
    "\n",
    "\n",
    "    print(\"---- Inside prepare_data component ----\")\n",
    "    # Load dataset\n",
    "    dataset = pd.read_csv(\"https://raw.githubusercontent.com/Varbcgi/Diabetes_prediction/main/diabetes_binary.csv\")\n",
    "    dataset = dataset.dropna()\n",
    "    dataset.to_csv(f'data/final_df.csv', index=False)\n",
    "    print(\"\\n ---- data csv is saved to PV location /data/final_df.csv ----\")\n",
    "    return dataset"
   ]
  },
  {
   "cell_type": "markdown",
   "id": "32d08430",
   "metadata": {},
   "source": [
    "### Splitting component\n",
    "#### The dependent and independent variables are split and saved as numpy files, these induvidual files can further be used by all the induvidual components"
   ]
  },
  {
   "cell_type": "code",
   "execution_count": 242,
   "id": "8f988208",
   "metadata": {},
   "outputs": [],
   "source": [
    "def train_test_split():\n",
    "    import pandas as pd\n",
    "    import numpy as np\n",
    "    from sklearn.model_selection import train_test_split\n",
    "    print(\"---- Inside train_test_split component ----\")\n",
    "    dataset = pd.read_csv(f'data/final_df.csv')\n",
    "    #Seperating dependent variable from independent variable\n",
    "    y_diabetes = dataset['Diabetes_binary'].values\n",
    "    X = dataset.drop(['Diabetes_binary'], axis=1)\n",
    "\n",
    "\n",
    "    #Splitting dataset into test and training sets\n",
    "    from sklearn.model_selection import train_test_split\n",
    "\n",
    "    X_train, X_test, y_train, y_test = train_test_split(X, y_diabetes, test_size = 0.30, random_state = 44, stratify = y_diabetes)\n",
    "\n",
    "    np.save(f'data/X_train.npy', X_train)\n",
    "    np.save(f'data/X_test.npy', X_test)\n",
    "    np.save(f'data/y_train.npy', y_train)\n",
    "    np.save(f'data/y_test.npy', y_test)\n",
    "    return X_train, X_test, y_train, y_test"
   ]
  },
  {
   "cell_type": "markdown",
   "id": "480b6a5f",
   "metadata": {},
   "source": [
    "### Training component\n",
    "#### The training_basic_classifier() function is responsible for training a basic classifier model. It takes care of the training process and returns the trained model."
   ]
  },
  {
   "cell_type": "code",
   "execution_count": 243,
   "id": "64d47158",
   "metadata": {},
   "outputs": [],
   "source": [
    "def training_basic_classifier():\n",
    "    import pandas as pd\n",
    "    \n",
    "    import numpy as np\n",
    "    from sklearn.ensemble import RandomForestClassifier\n",
    "\n",
    "    print(\"---- Inside training_basic_classifier component ----\")\n",
    "\n",
    "    X_train = np.load(f'data/X_train.npy',allow_pickle=True)\n",
    "    y_train = np.load(f'data/y_train.npy',allow_pickle=True)\n",
    "\n",
    "    classifier = RandomForestClassifier(n_estimators=115, max_features=10 , max_depth=10)\n",
    "    classifier.fit(X_train,y_train)\n",
    "    import pickle\n",
    "    with open(f'data/model.pkl', 'wb') as f:\n",
    "        pickle.dump(classifier, f)\n",
    "\n",
    "    print(\"\\n ----RandomForestClassifier regression classifier is trained on Diabetes data and saved to PV location /data/model.pkl ----\")\n",
    "    "
   ]
  },
  {
   "cell_type": "markdown",
   "id": "543b0af3",
   "metadata": {},
   "source": [
    "### Predict component\n",
    "#### Here you can define a function which takes in the pickle file and predicts on test data"
   ]
  },
  {
   "cell_type": "code",
   "execution_count": 244,
   "id": "ff7538e3",
   "metadata": {},
   "outputs": [],
   "source": [
    "def predict_on_test_data():\n",
    "    import pandas as pd\n",
    "    import numpy as np\n",
    "    import pickle\n",
    "    print(\"---- Inside predict_on_test_data component ----\")\n",
    "    with open(f'data/model.pkl','rb') as f:\n",
    "        rfc = pickle.load(f)\n",
    "    X_test = np.load(f'data/X_test.npy',allow_pickle=True)\n",
    "    y_pred = rfc.predict(X_test)\n",
    "    np.save(f'data/y_pred.npy', y_pred)\n",
    "\n",
    "    print(\"\\n---- Predicted classes ----\")\n",
    "    print(\"\\n\")\n",
    "    print(y_pred)"
   ]
  },
  {
   "cell_type": "markdown",
   "id": "a48a2904",
   "metadata": {},
   "source": [
    "### Prediction probabilites\n",
    "#### This function generates  probabilities of the target classes for a given set of input samples. The resulting probabilities are stored in the probabilities array, which can then be used for further analysis or decision-making."
   ]
  },
  {
   "cell_type": "code",
   "execution_count": 245,
   "id": "39128c07",
   "metadata": {},
   "outputs": [],
   "source": [
    "def predict_prob_on_test_data():\n",
    "    import pandas as pd\n",
    "    import numpy as np\n",
    "    import pickle\n",
    "    print(\"---- Inside predict_prob_on_test_data component ----\")\n",
    "    with open(f'data/model.pkl','rb') as f:\n",
    "        logistic_reg_model = pickle.load(f)\n",
    "    X_test = np.load(f'data/X_test.npy',allow_pickle=True)\n",
    "    y_pred_prob = logistic_reg_model.predict_proba(X_test)\n",
    "    np.save(f'data/y_pred_prob.npy', y_pred_prob)\n",
    "    \n",
    "    print(\"\\n---- Predicted Probabilities ----\")\n",
    "    print(\"\\n\")\n",
    "    print(y_pred_prob)"
   ]
  },
  {
   "cell_type": "markdown",
   "id": "d1127759",
   "metadata": {},
   "source": [
    "### Metrics component\n",
    "#### The get_metrics() function is used to retrieve evaluation metrics for a trained model. It calculates and returns a set of metrics that provide insights into the model's performance and accuracy."
   ]
  },
  {
   "cell_type": "code",
   "execution_count": 2,
   "id": "d3a3149a",
   "metadata": {},
   "outputs": [],
   "source": [
    "def get_metrics():\n",
    "    import pandas as pd\n",
    "    import numpy as np\n",
    "    from sklearn.metrics import accuracy_score,precision_score,recall_score,log_loss\n",
    "    from sklearn import metrics\n",
    "    print(\"---- Inside get_metrics component ----\")\n",
    "    y_test = np.load(f'data/y_test.npy',allow_pickle=True)\n",
    "    y_pred = np.load(f'data/y_pred.npy',allow_pickle=True)\n",
    "    y_pred_prob = np.load(f'data/y_pred_prob.npy',allow_pickle=True)\n",
    "    \n",
    "    acc = accuracy_score(y_test, y_pred)\n",
    "    prec = precision_score(y_test, y_pred,average='micro')\n",
    "    recall = recall_score(y_test, y_pred,average='micro')\n",
    "    entropy = log_loss(y_test, y_pred_prob)\n",
    "    \n",
    "    y_test = np.load(f'data/y_test.npy',allow_pickle=True)\n",
    "    y_pred = np.load(f'data/y_pred.npy',allow_pickle=True)\n",
    "    print(metrics.classification_report(y_test, y_pred))\n",
    "    \n",
    "    print(\"\\n Model Metrics:\", {'accuracy': round(acc, 2), 'precision': round(prec, 2), 'recall': round(recall, 2), 'entropy': round(entropy, 2)})"
   ]
  },
  {
   "cell_type": "markdown",
   "id": "6232ad73",
   "metadata": {},
   "source": [
    "## Creation of components"
   ]
  },
  {
   "cell_type": "markdown",
   "id": "de9c6ca4",
   "metadata": {},
   "source": [
    "### Components of pipeline\n",
    "#### Components are created using the create_component_from_func method from the kfp.components module. It wraps the prepare_data function and specifies the base image as python:3.9 and the packages to install as per the requirement of that particular component"
   ]
  },
  {
   "cell_type": "code",
   "execution_count": 247,
   "id": "d03044f2",
   "metadata": {},
   "outputs": [],
   "source": [
    "create_step_prepare_data = kfp.components.create_component_from_func(\n",
    "    func=prepare_data,\n",
    "    base_image='python:3.9',\n",
    "    packages_to_install=['pandas==1.2.4','numpy==1.21.0']\n",
    ")"
   ]
  },
  {
   "cell_type": "code",
   "execution_count": 248,
   "id": "72b033d3",
   "metadata": {},
   "outputs": [],
   "source": [
    "create_step_train_test_split = kfp.components.create_component_from_func(\n",
    "    func=train_test_split,\n",
    "    base_image='python:3.9',\n",
    "    packages_to_install=['pandas==1.2.4','numpy==1.21.0','scikit-learn==1.2.1']\n",
    ")"
   ]
  },
  {
   "cell_type": "code",
   "execution_count": 249,
   "id": "63eb0ea4",
   "metadata": {},
   "outputs": [],
   "source": [
    "create_step_training_basic_classifier = kfp.components.create_component_from_func(\n",
    "    func=training_basic_classifier,\n",
    "    base_image='python:3.9',\n",
    "    packages_to_install=['pandas==1.2.4','numpy==1.21.0','scikit-learn==1.2.1']\n",
    ")"
   ]
  },
  {
   "cell_type": "code",
   "execution_count": 250,
   "id": "42417fe3",
   "metadata": {},
   "outputs": [],
   "source": [
    "create_step_predict_on_test_data = kfp.components.create_component_from_func(\n",
    "        func=predict_on_test_data,\n",
    "    base_image='python:3.9',\n",
    "    packages_to_install=['pandas==1.2.4','numpy==1.21.0','scikit-learn==1.2.1']\n",
    ")"
   ]
  },
  {
   "cell_type": "code",
   "execution_count": 251,
   "id": "1252588e",
   "metadata": {},
   "outputs": [],
   "source": [
    "create_step_predict_prob_on_test_data = kfp.components.create_component_from_func(\n",
    "        func=predict_prob_on_test_data,\n",
    "    base_image='python:3.9',\n",
    "    packages_to_install=['pandas==1.2.4','numpy==1.21.0','scikit-learn==1.2.1']\n",
    ")"
   ]
  },
  {
   "cell_type": "code",
   "execution_count": 252,
   "id": "d179cb17",
   "metadata": {},
   "outputs": [],
   "source": [
    "create_step_get_metrics = kfp.components.create_component_from_func(\n",
    "    func=get_metrics,\n",
    "    base_image='python:3.9',\n",
    "    packages_to_install=['pandas==1.2.4','numpy==1.21.0','scikit-learn==1.2.1']\n",
    ")"
   ]
  },
  {
   "cell_type": "markdown",
   "id": "e1f33bee",
   "metadata": {},
   "source": [
    "## Defining the pipeline"
   ]
  },
  {
   "cell_type": "markdown",
   "id": "d9205292",
   "metadata": {},
   "source": [
    "### Now we define a pipeline as per our requirements\n",
    "#### In this example we have VolumeOP, The VolumeOp is typically used to define and manage persistent storage resources within a Kubeflow Pipeline. In this specific case, it is creating a volume with a specific size and access mode, which can be used by subsequent steps in the pipeline to store or access data.\n",
    "#### size=\"1Gi specifies the size of the requested storage for the volume. In this case, it is set to 1 gigabyte (1Gi). \n",
    "#### modes=dsl.VOLUME_MODE_RWO sets the access mode for the volume. In this case, it is set to ReadWriteOnce (RWO), which means the volume can be mounted as read-write by a single node."
   ]
  },
  {
   "cell_type": "code",
   "execution_count": 253,
   "id": "c560a74a",
   "metadata": {},
   "outputs": [],
   "source": [
    "# Define the pipeline\n",
    "@dsl.pipeline(\n",
    "   name='Diabetes-classifier',\n",
    "   description='A sample pipeline that performs diabetes classifier task'\n",
    ")\n",
    "# Define parameters to be fed into pipeline\n",
    "def diabetes_classifier_pipeline(data_path: str):\n",
    "    vop = dsl.VolumeOp(\n",
    "    name=\"t-vol\",\n",
    "    resource_name=\"t-vol\", \n",
    "    size=\"1Gi\", \n",
    "    modes=dsl.VOLUME_MODE_RWO)\n",
    "    \n",
    "    prepare_data_task = create_step_prepare_data().add_pvolumes({data_path: vop.volume})\n",
    "    train_test_split = create_step_train_test_split().add_pvolumes({data_path: vop.volume}).after(prepare_data_task)\n",
    "    classifier_training = create_step_training_basic_classifier().add_pvolumes({data_path: vop.volume}).after(train_test_split)\n",
    "    log_predicted_class = create_step_predict_on_test_data().add_pvolumes({data_path: vop.volume}).after(classifier_training)\n",
    "    log_predicted_probabilities = create_step_predict_prob_on_test_data().add_pvolumes({data_path: vop.volume}).after(log_predicted_class)\n",
    "    log_metrics_task = create_step_get_metrics().add_pvolumes({data_path: vop.volume}).after(log_predicted_probabilities)\n",
    "\n",
    "    "
   ]
  },
  {
   "cell_type": "markdown",
   "id": "0340c769",
   "metadata": {},
   "source": [
    "## Compilation"
   ]
  },
  {
   "cell_type": "markdown",
   "id": "94dce760",
   "metadata": {},
   "source": [
    "### The kfp.compiler.Compiler().compile() \n",
    "#### This function is used to compile a Kubeflow Pipeline defined as a Python function into a YAML representation that can be executed by a Kubeflow Pipelines environment."
   ]
  },
  {
   "cell_type": "code",
   "execution_count": 254,
   "id": "1f8e52e6",
   "metadata": {},
   "outputs": [],
   "source": [
    "\n",
    "kfp.compiler.Compiler().compile(\n",
    "    pipeline_func=diabetes_classifier_pipeline,\n",
    "    package_path='diabetes_classifier_pipeline.yaml')\n"
   ]
  },
  {
   "cell_type": "markdown",
   "id": "0fb00fbc",
   "metadata": {},
   "source": [
    "#### The kfp.Client() class is used to create a client object that interacts with a Kubeflow Pipelines deployment. The client provides methods to interact with the Kubeflow Pipelines service, such as submitting and managing pipeline runs, retrieving pipeline metadata, and accessing experiment information."
   ]
  },
  {
   "cell_type": "code",
   "execution_count": 255,
   "id": "48d6642a",
   "metadata": {},
   "outputs": [],
   "source": [
    "client = kfp.Client()\n",
    "#session_cookie = \"MTY2MDY0Mjg0OXxOd3dBTkRSVE5FeElTMEZDVDFVeU5EZE1SMHhUVHpRMU5FcFpNMWRNVWpaTFVrOHlXRFJOVlRReVVFNUxOazFZVEVWQ05FUkZTRUU9fM7IcyOyK49OM0dMDjRJR85gqDksj-YOOLsagNs-_-KR\"\n",
    "# HOST = \"http://localhost:8080/\"\n",
    "# namespace = \"kubeflow\"\n",
    "# client = kfp.Client(\n",
    "#     host=f\"{HOST}/pipeline\",\n",
    "#     #cookies=f\"authservice_session={session_cookie}\",\n",
    "#     namespace=namespace,\n",
    "# )"
   ]
  },
  {
   "cell_type": "code",
   "execution_count": 256,
   "id": "8404ab95",
   "metadata": {},
   "outputs": [
    {
     "name": "stdout",
     "output_type": "stream",
     "text": [
      "2023-05-16\n"
     ]
    },
    {
     "data": {
      "text/html": [
       "<a href=\"/pipeline/#/experiments/details/a0421ca7-2236-41d9-9058-a75cf7faacdb\" target=\"_blank\" >Experiment details</a>."
      ],
      "text/plain": [
       "<IPython.core.display.HTML object>"
      ]
     },
     "metadata": {},
     "output_type": "display_data"
    },
    {
     "data": {
      "text/html": [
       "<a href=\"/pipeline/#/runs/details/9ad0d466-8160-4e2a-b150-dfc98055ace7\" target=\"_blank\" >Run details</a>."
      ],
      "text/plain": [
       "<IPython.core.display.HTML object>"
      ]
     },
     "metadata": {},
     "output_type": "display_data"
    }
   ],
   "source": [
    "DATA_PATH = '/data'\n",
    "\n",
    "import datetime\n",
    "print(datetime.datetime.now().date())\n",
    "\n",
    "\n",
    "pipeline_func = diabetes_classifier_pipeline\n",
    "experiment_name = 'diabetes_classifier_exp_v5' +\"_\"+ str(datetime.datetime.now().date())\n",
    "run_name = pipeline_func.__name__ + ' run'\n",
    "namespace = \"kubeflow\"\n",
    "\n",
    "arguments = {\"data_path\":DATA_PATH}\n",
    "\n",
    "kfp.compiler.Compiler().compile(pipeline_func,  \n",
    "  '{}.zip'.format(experiment_name))\n",
    "\n",
    "run_result = client.create_run_from_pipeline_func(pipeline_func, \n",
    "                                                  experiment_name=experiment_name, \n",
    "                                                  run_name=run_name, \n",
    "                                                  arguments=arguments)"
   ]
  },
  {
   "cell_type": "code",
   "execution_count": null,
   "id": "8c007692",
   "metadata": {},
   "outputs": [],
   "source": []
  },
  {
   "cell_type": "code",
   "execution_count": null,
   "id": "9d7caf97",
   "metadata": {},
   "outputs": [],
   "source": []
  }
 ],
 "metadata": {
  "kernelspec": {
   "display_name": "Python 3 (ipykernel)",
   "language": "python",
   "name": "python3"
  },
  "language_info": {
   "codemirror_mode": {
    "name": "ipython",
    "version": 3
   },
   "file_extension": ".py",
   "mimetype": "text/x-python",
   "name": "python",
   "nbconvert_exporter": "python",
   "pygments_lexer": "ipython3",
   "version": "3.9.13"
  }
 },
 "nbformat": 4,
 "nbformat_minor": 5
}
